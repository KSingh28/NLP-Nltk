{
 "cells": [
  {
   "cell_type": "code",
   "execution_count": 1,
   "metadata": {
    "collapsed": true
   },
   "outputs": [],
   "source": [
    "import nltk\n",
    "#nltk.download('averaged_perceptron_tagger')\n",
    "#nltk.download('maxent_ne_chunker')\n",
    "#nltk.download('words')\n",
    "from nltk.tokenize import sent_tokenize, word_tokenize"
   ]
  },
  {
   "cell_type": "code",
   "execution_count": 2,
   "metadata": {},
   "outputs": [
    {
     "name": "stdout",
     "output_type": "stream",
     "text": [
      "['My first attempt at exploring nltk library.', 'I am quite excited to learn more about it.']\n"
     ]
    }
   ],
   "source": [
    "text=\"My first attempt at exploring nltk library. I am quite excited to learn more about it.\"\n",
    "text_tokenize=sent_tokenize(text)\n",
    "print(text_tokenize)"
   ]
  },
  {
   "cell_type": "code",
   "execution_count": 3,
   "metadata": {},
   "outputs": [
    {
     "name": "stdout",
     "output_type": "stream",
     "text": [
      "['My', 'first', 'attempt', 'at', 'exploring', 'nltk', 'library', '.', 'I', 'am', 'quite', 'excited', 'to', 'learn', 'more', 'about', 'it', '.']\n"
     ]
    }
   ],
   "source": [
    "words_tokenize=word_tokenize(text)\n",
    "print(words_tokenize)"
   ]
  },
  {
   "cell_type": "code",
   "execution_count": 4,
   "metadata": {
    "collapsed": true
   },
   "outputs": [],
   "source": [
    "#print(nltk.wordpunct_tokenize(text))\n"
   ]
  },
  {
   "cell_type": "markdown",
   "metadata": {},
   "source": [
    "List of pos_tags:linke reference https://www.ling.upenn.edu/courses/Fall_2003/ling001/penn_treebank_pos.html"
   ]
  },
  {
   "cell_type": "code",
   "execution_count": 5,
   "metadata": {},
   "outputs": [
    {
     "name": "stdout",
     "output_type": "stream",
     "text": [
      "[('My', 'PRP$'), ('first', 'JJ'), ('attempt', 'NN'), ('at', 'IN'), ('exploring', 'VBG'), ('nltk', 'JJ'), ('library', 'NN'), ('.', '.'), ('I', 'PRP'), ('am', 'VBP'), ('quite', 'RB'), ('excited', 'VBN'), ('to', 'TO'), ('learn', 'VB'), ('more', 'JJR'), ('about', 'IN'), ('it', 'PRP'), ('.', '.')]\n"
     ]
    }
   ],
   "source": [
    "from nltk import ne_chunk, pos_tag\n",
    "#word_pos_tag= pos_tag(words_tokenize)\n",
    "print(nltk.pos_tag(words_tokenize))"
   ]
  },
  {
   "cell_type": "markdown",
   "metadata": {},
   "source": [
    "Nltk_Chunking"
   ]
  },
  {
   "cell_type": "code",
   "execution_count": 6,
   "metadata": {},
   "outputs": [
    {
     "name": "stdout",
     "output_type": "stream",
     "text": [
      "(S\n",
      "  My/PRP$\n",
      "  first/JJ\n",
      "  attempt/NN\n",
      "  at/IN\n",
      "  exploring/VBG\n",
      "  nltk/JJ\n",
      "  library/NN\n",
      "  ./.\n",
      "  I/PRP\n",
      "  am/VBP\n",
      "  quite/RB\n",
      "  excited/VBN\n",
      "  to/TO\n",
      "  learn/VB\n",
      "  more/JJR\n",
      "  about/IN\n",
      "  it/PRP)\n"
     ]
    }
   ],
   "source": [
    "# Denine a function to get chunks\n",
    "def get_chunks(text):\n",
    "    return ne_chunk(\n",
    "         pos_tag(\n",
    "               word_tokenize(text)))\n",
    "\n",
    "text1=get_chunks(\"My first attempt at exploring nltk library. I am quite excited to learn more about it\")\n",
    "text1.pprint()\n",
    "\n",
    "              "
   ]
  },
  {
   "cell_type": "code",
   "execution_count": 7,
   "metadata": {
    "collapsed": true
   },
   "outputs": [],
   "source": [
    "text1.draw()"
   ]
  },
  {
   "cell_type": "code",
   "execution_count": null,
   "metadata": {
    "collapsed": true
   },
   "outputs": [],
   "source": []
  }
 ],
 "metadata": {
  "kernelspec": {
   "display_name": "Python 3",
   "language": "python",
   "name": "python3"
  },
  "language_info": {
   "codemirror_mode": {
    "name": "ipython",
    "version": 3
   },
   "file_extension": ".py",
   "mimetype": "text/x-python",
   "name": "python",
   "nbconvert_exporter": "python",
   "pygments_lexer": "ipython3",
   "version": "3.6.3"
  }
 },
 "nbformat": 4,
 "nbformat_minor": 2
}
